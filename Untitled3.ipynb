{
 "cells": [
  {
   "cell_type": "code",
   "execution_count": 29,
   "id": "7ef8395f-4fcd-4876-bc06-4594e49768b8",
   "metadata": {},
   "outputs": [
    {
     "data": {
      "text/html": [
       "<div>\n",
       "<style scoped>\n",
       "    .dataframe tbody tr th:only-of-type {\n",
       "        vertical-align: middle;\n",
       "    }\n",
       "\n",
       "    .dataframe tbody tr th {\n",
       "        vertical-align: top;\n",
       "    }\n",
       "\n",
       "    .dataframe thead th {\n",
       "        text-align: right;\n",
       "    }\n",
       "</style>\n",
       "<table border=\"1\" class=\"dataframe\">\n",
       "  <thead>\n",
       "    <tr style=\"text-align: right;\">\n",
       "      <th></th>\n",
       "      <th>Unnamed: 0</th>\n",
       "      <th>Age</th>\n",
       "      <th>Sex</th>\n",
       "      <th>Job</th>\n",
       "      <th>Housing</th>\n",
       "      <th>Saving accounts</th>\n",
       "      <th>Credit amount</th>\n",
       "      <th>Duration</th>\n",
       "    </tr>\n",
       "  </thead>\n",
       "  <tbody>\n",
       "    <tr>\n",
       "      <th>0</th>\n",
       "      <td>0</td>\n",
       "      <td>67</td>\n",
       "      <td>1</td>\n",
       "      <td>2</td>\n",
       "      <td>0</td>\n",
       "      <td>0</td>\n",
       "      <td>1169</td>\n",
       "      <td>6</td>\n",
       "    </tr>\n",
       "    <tr>\n",
       "      <th>1</th>\n",
       "      <td>1</td>\n",
       "      <td>22</td>\n",
       "      <td>0</td>\n",
       "      <td>2</td>\n",
       "      <td>0</td>\n",
       "      <td>1</td>\n",
       "      <td>5951</td>\n",
       "      <td>48</td>\n",
       "    </tr>\n",
       "    <tr>\n",
       "      <th>2</th>\n",
       "      <td>2</td>\n",
       "      <td>49</td>\n",
       "      <td>1</td>\n",
       "      <td>1</td>\n",
       "      <td>0</td>\n",
       "      <td>1</td>\n",
       "      <td>2096</td>\n",
       "      <td>12</td>\n",
       "    </tr>\n",
       "    <tr>\n",
       "      <th>3</th>\n",
       "      <td>3</td>\n",
       "      <td>45</td>\n",
       "      <td>1</td>\n",
       "      <td>2</td>\n",
       "      <td>1</td>\n",
       "      <td>1</td>\n",
       "      <td>7882</td>\n",
       "      <td>42</td>\n",
       "    </tr>\n",
       "    <tr>\n",
       "      <th>4</th>\n",
       "      <td>4</td>\n",
       "      <td>53</td>\n",
       "      <td>1</td>\n",
       "      <td>2</td>\n",
       "      <td>1</td>\n",
       "      <td>1</td>\n",
       "      <td>4870</td>\n",
       "      <td>24</td>\n",
       "    </tr>\n",
       "  </tbody>\n",
       "</table>\n",
       "</div>"
      ],
      "text/plain": [
       "   Unnamed: 0  Age  Sex  Job  Housing  Saving accounts  Credit amount  \\\n",
       "0           0   67    1    2        0                0           1169   \n",
       "1           1   22    0    2        0                1           5951   \n",
       "2           2   49    1    1        0                1           2096   \n",
       "3           3   45    1    2        1                1           7882   \n",
       "4           4   53    1    2        1                1           4870   \n",
       "\n",
       "   Duration  \n",
       "0         6  \n",
       "1        48  \n",
       "2        12  \n",
       "3        42  \n",
       "4        24  "
      ]
     },
     "execution_count": 29,
     "metadata": {},
     "output_type": "execute_result"
    }
   ],
   "source": [
    "import pandas as pd\n",
    "import numpy as np\n",
    "import seaborn as sns\n",
    "import matplotlib.pyplot as plt\n",
    "import matplotlib.mlab as mlab\n",
    "#загрузили очищенный датасет(строковые даные заменены на численныеы)\n",
    "german = pd.read_csv(\"data/german_credit_data_clear.csv\")\n",
    "german=german.drop([\"Purpose\"],axis=1)\n",
    "\n",
    "german.head()"
   ]
  },
  {
   "cell_type": "code",
   "execution_count": 30,
   "id": "b21f1cdc-dc9f-4883-b588-de6bd6e2cb7f",
   "metadata": {},
   "outputs": [
    {
     "name": "stdout",
     "output_type": "stream",
     "text": [
      "<class 'pandas.core.frame.DataFrame'>\n",
      "RangeIndex: 1000 entries, 0 to 999\n",
      "Data columns (total 8 columns):\n",
      " #   Column           Non-Null Count  Dtype\n",
      "---  ------           --------------  -----\n",
      " 0   Unnamed: 0       1000 non-null   int64\n",
      " 1   Age              1000 non-null   int64\n",
      " 2   Sex              1000 non-null   int64\n",
      " 3   Job              1000 non-null   int64\n",
      " 4   Housing          1000 non-null   int64\n",
      " 5   Saving accounts  1000 non-null   int64\n",
      " 6   Credit amount    1000 non-null   int64\n",
      " 7   Duration         1000 non-null   int64\n",
      "dtypes: int64(8)\n",
      "memory usage: 62.6 KB\n"
     ]
    }
   ],
   "source": [
    "german.info()"
   ]
  },
  {
   "cell_type": "code",
   "execution_count": 31,
   "id": "c943a8f3-8b81-4f55-8953-29cae5fed740",
   "metadata": {},
   "outputs": [],
   "source": [
    "y = german[\"Sex\"].astype(\"int\") # Формируем вектор меток У\n",
    "X = german.drop(\"Sex\", axis=1) # Формируем массив данных X"
   ]
  },
  {
   "cell_type": "code",
   "execution_count": 32,
   "id": "04795ee1-857e-42a7-99b6-823cfb8d3272",
   "metadata": {},
   "outputs": [
    {
     "data": {
      "text/plain": [
       "((1000, 7), (1000,))"
      ]
     },
     "execution_count": 32,
     "metadata": {},
     "output_type": "execute_result"
    }
   ],
   "source": [
    "X.shape, y.shape # проверим размерность"
   ]
  },
  {
   "cell_type": "code",
   "execution_count": 33,
   "id": "3b9faeaf-8441-456c-84bf-27cff0afe0db",
   "metadata": {},
   "outputs": [],
   "source": [
    "from sklearn.tree import DecisionTreeClassifier\n",
    "from sklearn.model_selection import cross_val_score, train_test_split"
   ]
  },
  {
   "cell_type": "code",
   "execution_count": 34,
   "id": "7c8b97f2-9f46-4102-b874-e3df3f3451ac",
   "metadata": {},
   "outputs": [],
   "source": [
    "X_train, X_valid, y_train, y_valid = train_test_split(   # по умолчанию 75% и 25%\n",
    "    X, y, test_size=0.3, random_state=17)  "
   ]
  },
  {
   "cell_type": "code",
   "execution_count": 35,
   "id": "8584361f-ecc0-4c3c-a79a-4e6a90ffc770",
   "metadata": {},
   "outputs": [
    {
     "data": {
      "text/plain": [
       "((700, 7), (300, 7))"
      ]
     },
     "execution_count": 35,
     "metadata": {},
     "output_type": "execute_result"
    }
   ],
   "source": [
    "X_train.shape, X_valid.shape"
   ]
  },
  {
   "cell_type": "code",
   "execution_count": 36,
   "id": "0bc395d6-a697-4658-960e-5f505a344e17",
   "metadata": {},
   "outputs": [
    {
     "data": {
      "text/plain": [
       "((700,), (300,))"
      ]
     },
     "execution_count": 36,
     "metadata": {},
     "output_type": "execute_result"
    }
   ],
   "source": [
    "y_train.shape, y_valid.shape"
   ]
  },
  {
   "cell_type": "code",
   "execution_count": 40,
   "id": "7c0c0e1e-73a9-40e6-b1d7-91e8d10f8ee1",
   "metadata": {},
   "outputs": [
    {
     "name": "stdout",
     "output_type": "stream",
     "text": [
      "[0.57857143 0.57142857 0.60714286 0.62857143 0.60714286]\n"
     ]
    },
    {
     "data": {
      "text/plain": [
       "0.5985714285714285"
      ]
     },
     "execution_count": 40,
     "metadata": {},
     "output_type": "execute_result"
    }
   ],
   "source": [
    "# Строим  дерево решений\n",
    "first_tree = DecisionTreeClassifier(random_state=17)\n",
    "first_tree = first_tree.fit(X_train,y_train)\n",
    "print(cross_val_score(first_tree, X_train, y_train, cv=5)) # оценка модели с помощью кросс-валидации\n",
    "np.mean(cross_val_score(first_tree, X_train, y_train, cv=5)) #среднее по пяти оценкам"
   ]
  },
  {
   "cell_type": "code",
   "execution_count": 41,
   "id": "bb849108-9ef1-4e1c-9418-b4000512e72c",
   "metadata": {},
   "outputs": [
    {
     "name": "stdout",
     "output_type": "stream",
     "text": [
      "\n",
      "Метод RandomForestClassifier\n",
      "[0.73333333 0.75       0.71666667 0.71666667 0.73333333]\n",
      "0.7300000000000001\n"
     ]
    }
   ],
   "source": [
    "print(\"\\nМетод RandomForestClassifier\")\n",
    "#Обучаем с помощью случайного леса\n",
    "from sklearn.ensemble import RandomForestClassifier\n",
    "modelRF = RandomForestClassifier(random_state=1, max_depth=2)\n",
    "\n",
    "modelRF = modelRF.fit(X_train, y_train)\n",
    "\n",
    "# оценка модели с помощью кросс-валидации\n",
    "print(cross_val_score(modelRF, X_valid, y_valid, cv=5))\n",
    "    # среднее по пяти оценкам\n",
    "svc_first_result = np.mean(cross_val_score(modelRF, X_valid, y_valid, cv=5))\n",
    "print(svc_first_result)"
   ]
  },
  {
   "cell_type": "code",
   "execution_count": 42,
   "id": "4504035e-a7e7-4122-95cf-4767751784e4",
   "metadata": {},
   "outputs": [
    {
     "name": "stdout",
     "output_type": "stream",
     "text": [
      "\n",
      "Метод k ближайших соседей\n",
      "[0.6        0.63571429 0.63571429 0.55       0.67857143]\n",
      "0.6200000000000001\n"
     ]
    }
   ],
   "source": [
    "print(\"\\nМетод k ближайших соседей\")\n",
    "    # метод k ближайших соседей\n",
    "from sklearn.neighbors import KNeighborsClassifier\n",
    "    # строим первую оценку\n",
    "first_knn = KNeighborsClassifier()\n",
    "first_knn = first_knn.fit(X_train,y_train) \n",
    "    # оценка модели с помощью кросс-валидации\n",
    "print(cross_val_score(first_knn, X_train.values, y_train.values, cv=5))\n",
    "    # среднее по пяти оценкам\n",
    "knn_first_result = np.mean(cross_val_score(first_knn, X_train.values, y_train.values, cv=5))\n",
    "print(knn_first_result)"
   ]
  },
  {
   "cell_type": "code",
   "execution_count": 43,
   "id": "02e6c364-178c-4b70-a3e3-b37fe8394ae9",
   "metadata": {},
   "outputs": [
    {
     "name": "stdout",
     "output_type": "stream",
     "text": [
      "\n",
      "Метод SVC\n",
      "[0.7        0.7        0.7        0.7        0.68333333]\n",
      "0.6966666666666667\n"
     ]
    }
   ],
   "source": [
    "#метод опорных векторов\n",
    "print(\"\\nМетод SVC\")\n",
    "\n",
    "from sklearn.svm import SVC\n",
    "\n",
    "# создать экземпляр модели \n",
    "model_SVC = SVC(C=1)\n",
    "model_SVC = model_SVC.fit(X_train, y_train)\n",
    "\n",
    "# оценка модели с помощью кросс-валидации\n",
    "print(cross_val_score(model_SVC, X_valid, y_valid, cv=5))\n",
    "    # среднее по пяти оценкам\n",
    "svc_first_result = np.mean(cross_val_score(model_SVC, X_valid, y_valid, cv=5))\n",
    "print(svc_first_result)"
   ]
  },
  {
   "cell_type": "code",
   "execution_count": 46,
   "id": "39bdc6e9-3cf7-4723-a634-0a1bd9c3ee8b",
   "metadata": {},
   "outputs": [
    {
     "name": "stdout",
     "output_type": "stream",
     "text": [
      "\n",
      "Матрица ошибок дерева решений\n"
     ]
    },
    {
     "data": {
      "text/plain": [
       "array([[ 38,  53],\n",
       "       [ 56, 153]], dtype=int64)"
      ]
     },
     "execution_count": 46,
     "metadata": {},
     "output_type": "execute_result"
    }
   ],
   "source": [
    "from sklearn import metrics\n",
    "\n",
    "# рассчитать прогнозируемые значения\n",
    "y_pred=first_tree.predict(X_valid)\n",
    "\n",
    "print(\"\\nМатрица ошибок дерева решений\")\n",
    "cnf_matrix = metrics.confusion_matrix(y_valid, y_pred)\n",
    "\n",
    "cnf_matrix"
   ]
  },
  {
   "cell_type": "code",
   "execution_count": 47,
   "id": "ae4670c3-34bb-424d-9042-cd1c9578e7da",
   "metadata": {},
   "outputs": [
    {
     "name": "stdout",
     "output_type": "stream",
     "text": [
      "Accuracy: 0.6366666666666667\n",
      "Precision: 0.7427184466019418\n",
      "Recall: 0.7320574162679426\n"
     ]
    }
   ],
   "source": [
    "print(\"Accuracy:\",metrics.accuracy_score(y_valid, y_pred))\n",
    "print(\"Precision:\",metrics.precision_score(y_valid, y_pred))\n",
    "print(\"Recall:\",metrics.recall_score(y_valid, y_pred))"
   ]
  },
  {
   "cell_type": "code",
   "execution_count": 52,
   "id": "7588c9fc-be39-4c9d-a466-abba49180d01",
   "metadata": {},
   "outputs": [
    {
     "name": "stdout",
     "output_type": "stream",
     "text": [
      "\n",
      "Матрица ошибок RandomForestClassifier\n"
     ]
    },
    {
     "data": {
      "text/plain": [
       "array([[  8,  83],\n",
       "       [  2, 207]], dtype=int64)"
      ]
     },
     "execution_count": 52,
     "metadata": {},
     "output_type": "execute_result"
    }
   ],
   "source": [
    "y_pred=modelRF.predict(X_valid)\n",
    "\n",
    "print(\"\\nМатрица ошибок RandomForestClassifier\")\n",
    "cnf_matrix = metrics.confusion_matrix(y_valid, y_pred)\n",
    "\n",
    "cnf_matrix\n"
   ]
  },
  {
   "cell_type": "code",
   "execution_count": 53,
   "id": "8ea89a19-2e01-4c2f-ba2d-83d2277b65ce",
   "metadata": {},
   "outputs": [
    {
     "name": "stdout",
     "output_type": "stream",
     "text": [
      "Accuracy: 0.7166666666666667\n",
      "Precision: 0.7137931034482758\n",
      "Recall: 0.9904306220095693\n"
     ]
    }
   ],
   "source": [
    "#оцениваем точность модели\n",
    "print(\"Accuracy:\",metrics.accuracy_score(y_valid, y_pred))\n",
    "print(\"Precision:\",metrics.precision_score(y_valid, y_pred))\n",
    "print(\"Recall:\",metrics.recall_score(y_valid, y_pred))"
   ]
  },
  {
   "cell_type": "code",
   "execution_count": 65,
   "id": "0994f159-b9e7-47ce-8ea0-db91a75cdc84",
   "metadata": {},
   "outputs": [
    {
     "name": "stdout",
     "output_type": "stream",
     "text": [
      "\n",
      "Матрица ошибок k-ближайших соседей\n"
     ]
    },
    {
     "data": {
      "text/plain": [
       "array([[ 24,  67],\n",
       "       [ 37, 172]], dtype=int64)"
      ]
     },
     "execution_count": 65,
     "metadata": {},
     "output_type": "execute_result"
    }
   ],
   "source": [
    "# рассчитать прогнозируемые значения\n",
    "y_pred=first_knn.predict(X_valid)\n",
    "\n",
    "print(\"\\nМатрица ошибок k-ближайших соседей\")\n",
    "cnf_matrix = metrics.confusion_matrix(y_valid, y_pred)\n",
    "\n",
    "cnf_matrix"
   ]
  },
  {
   "cell_type": "code",
   "execution_count": 66,
   "id": "9977b10b-f67f-43d9-8610-7f4539d53240",
   "metadata": {},
   "outputs": [
    {
     "name": "stdout",
     "output_type": "stream",
     "text": [
      "Accuracy: 0.6533333333333333\n",
      "Precision: 0.7196652719665272\n",
      "Recall: 0.8229665071770335\n"
     ]
    }
   ],
   "source": [
    "#оцениваем точность модели\n",
    "print(\"Accuracy:\",metrics.accuracy_score(y_valid, y_pred))\n",
    "print(\"Precision:\",metrics.precision_score(y_valid, y_pred))\n",
    "print(\"Recall:\",metrics.recall_score(y_valid, y_pred))"
   ]
  },
  {
   "cell_type": "code",
   "execution_count": 56,
   "id": "87a4a7f4-00ac-474b-985b-3af931a83143",
   "metadata": {},
   "outputs": [
    {
     "name": "stdout",
     "output_type": "stream",
     "text": [
      "\n",
      "Матрица ошибок SVC\n"
     ]
    },
    {
     "data": {
      "text/plain": [
       "array([[  0,  91],\n",
       "       [  0, 209]], dtype=int64)"
      ]
     },
     "execution_count": 56,
     "metadata": {},
     "output_type": "execute_result"
    }
   ],
   "source": [
    "y_pred=model_SVC.predict(X_valid)\n",
    "#метод опорных векторов\n",
    "print(\"\\nМатрица ошибок SVC\")\n",
    "cnf_matrix = metrics.confusion_matrix(y_valid, y_pred)\n",
    "\n",
    "cnf_matrix"
   ]
  },
  {
   "cell_type": "code",
   "execution_count": 57,
   "id": "a7dff5c4-1b08-4755-9538-95be4993832a",
   "metadata": {},
   "outputs": [
    {
     "name": "stdout",
     "output_type": "stream",
     "text": [
      "Accuracy: 0.6966666666666667\n",
      "Precision: 0.6966666666666667\n",
      "Recall: 1.0\n"
     ]
    }
   ],
   "source": [
    "#оцениваем точность модели\n",
    "print(\"Accuracy:\",metrics.accuracy_score(y_valid, y_pred))\n",
    "print(\"Precision:\",metrics.precision_score(y_valid, y_pred))\n",
    "print(\"Recall:\",metrics.recall_score(y_valid, y_pred))"
   ]
  },
  {
   "cell_type": "code",
   "execution_count": 58,
   "id": "0ad3ad8c-26db-4668-ba96-5a3d72d6307c",
   "metadata": {},
   "outputs": [
    {
     "data": {
      "image/png": "[encoded data removed]",
      "text/plain": [
       "<Figure size 640x480 with 1 Axes>"
      ]
     },
     "metadata": {},
     "output_type": "display_data"
    }
   ],
   "source": [
    "#строим ROC-кривые для каждой модели обучения\n",
    "from sklearn.metrics import RocCurveDisplay\n",
    "ax = plt.gca()\n",
    "rfc_disp = RocCurveDisplay.from_estimator(first_tree, X_valid, y_valid, ax=ax)\n",
    "rfc_disp = RocCurveDisplay.from_estimator(first_knn, X_valid, y_valid, ax=ax)\n",
    "rfc_disp = RocCurveDisplay.from_estimator(model_SVC, X_valid, y_valid, ax=ax)\n",
    "rfc_disp = RocCurveDisplay.from_estimator(modelRF, X_valid, y_valid, ax=ax)\n",
    "plt.show()\n",
    "#истиный положительный показатель\n",
    "#частота положительных результатов"
   ]
  },
  {
   "cell_type": "code",
   "execution_count": 59,
   "id": "9eed8d59-6a4e-4e9d-8a66-a4730e218e9b",
   "metadata": {},
   "outputs": [
    {
     "name": "stdout",
     "output_type": "stream",
     "text": [
      "\n",
      "Улучшаем модель DT. Настраиваем max_depth для дерева\n",
      "Лучшие параметры для оптимизации\n",
      "0.7142857142857142 {'max_depth': 2, 'max_features': 5}\n"
     ]
    }
   ],
   "source": [
    "print(\"\\nУлучшаем модель DT. Настраиваем max_depth для дерева\")\n",
    "    # Улучшаем модель DT. Настраиваем max_depth для дерева\n",
    "from sklearn.model_selection import GridSearchCV\n",
    "    # Устанавливаем параметры дерева\n",
    "tree_params = {\"max_depth\": np.arange(1, 11), \"max_features\": [1, 3, 5]}\n",
    "    # GridSearchCV оптимизация путем перекрестного поиска по сетке параметров:\n",
    "tree_grid = GridSearchCV(first_tree, tree_params, cv=5, n_jobs=-1)\n",
    "    \n",
    "    # Выполняем прогонку со всеми наборами параметров \n",
    "tree_grid.fit(X_train, y_train)\n",
    "    # Выводим лучшие параметры для оптимизации\n",
    "print(\"Лучшие параметры для оптимизации\")\n",
    "print(tree_grid.best_score_, tree_grid.best_params_)"
   ]
  },
  {
   "cell_type": "code",
   "execution_count": 60,
   "id": "12e23074-d583-45f6-bcc2-4d3c047739aa",
   "metadata": {},
   "outputs": [
    {
     "name": "stdout",
     "output_type": "stream",
     "text": [
      "Accuracy: 0.7433333333333333\n",
      "Precision: 0.7444444444444445\n",
      "Recall: 0.9617224880382775\n"
     ]
    }
   ],
   "source": [
    "# рассчитать прогнозируемые значения\n",
    "y_pred=tree_grid.predict(X_valid)\n",
    "\n",
    "#оцениваем точность модели\n",
    "print(\"Accuracy:\",metrics.accuracy_score(y_valid, y_pred))\n",
    "print(\"Precision:\",metrics.precision_score(y_valid, y_pred))\n",
    "print(\"Recall:\",metrics.recall_score(y_valid, y_pred))"
   ]
  },
  {
   "cell_type": "code",
   "execution_count": 63,
   "id": "24819f25-50dd-43f6-bf93-073fe2a23468",
   "metadata": {},
   "outputs": [
    {
     "name": "stdout",
     "output_type": "stream",
     "text": [
      "\n",
      "Улучшаем модель knn\n",
      "Лучшие параметры для оптимизации\n",
      "0.6700000000000002 {'n_neighbors': 25}\n"
     ]
    }
   ],
   "source": [
    "print(\"\\nУлучшаем модель knn\")\n",
    "    # Улучшаем модель knn\n",
    "    # заполняем предлагаемые параметры\n",
    "knn_params = {\"n_neighbors\": range(5, 30, 5)} \n",
    "    # производим оценку параметров\n",
    "knn_grid = GridSearchCV(first_knn, knn_params, cv=5)\n",
    "    # Выполняем прогонку со всеми наборами параметров \n",
    "knn_grid.fit(X_train.values, y_train.values);\n",
    "    # Выводим лучшие параметры для оптимизации\n",
    "print(\"Лучшие параметры для оптимизации\")\n",
    "print(knn_grid.best_score_, knn_grid.best_params_)"
   ]
  },
  {
   "cell_type": "code",
   "execution_count": 64,
   "id": "24e64053-ed6c-4558-b484-2d87545321b5",
   "metadata": {},
   "outputs": [
    {
     "name": "stdout",
     "output_type": "stream",
     "text": [
      "Accuracy: 0.6866666666666666\n",
      "Precision: 0.697594501718213\n",
      "Recall: 0.9712918660287081\n"
     ]
    },
    {
     "name": "stderr",
     "output_type": "stream",
     "text": [
      "C:\\Users\\Stani\\AppData\\Roaming\\Python\\Python310\\site-packages\\sklearn\\base.py:443: UserWarning: X has feature names, but KNeighborsClassifier was fitted without feature names\n",
      "  warnings.warn(\n"
     ]
    }
   ],
   "source": [
    "# рассчитать прогнозируемые значения\n",
    "y_pred=knn_grid.predict(X_valid)\n",
    "\n",
    "#оцениваем точность модели\n",
    "print(\"Accuracy:\",metrics.accuracy_score(y_valid, y_pred))\n",
    "print(\"Precision:\",metrics.precision_score(y_valid, y_pred))\n",
    "print(\"Recall:\",metrics.recall_score(y_valid, y_pred))"
   ]
  },
  {
   "cell_type": "code",
   "execution_count": 67,
   "id": "3a6ee3f7-9999-4fec-a694-b03ba9832a63",
   "metadata": {},
   "outputs": [
    {
     "name": "stdout",
     "output_type": "stream",
     "text": [
      "Лучшие параметры для оптимизации\n"
     ]
    },
    {
     "data": {
      "text/plain": [
       "(0.7157142857142857, {'max_depth': 4, 'random_state': 1})"
      ]
     },
     "execution_count": 67,
     "metadata": {},
     "output_type": "execute_result"
    }
   ],
   "source": [
    "#находим лучшие параметры с помощью GridSearchCV() для улучшения модели \n",
    "from sklearn.model_selection import GridSearchCV\n",
    "RF_params = {\"random_state\": [1], \"max_depth\": [4, 6, 8, 10]}\n",
    "RF_grid = GridSearchCV(modelRF, RF_params, cv=5, n_jobs=-1)\n",
    "RF_grid.fit(X_train, y_train);\n",
    "print(\"Лучшие параметры для оптимизации\")\n",
    "RF_grid.best_score_, RF_grid.best_params_"
   ]
  },
  {
   "cell_type": "code",
   "execution_count": 69,
   "id": "620c45fe-f421-4ca4-bcc0-18b9bd98a2b8",
   "metadata": {},
   "outputs": [
    {
     "name": "stdout",
     "output_type": "stream",
     "text": [
      "Accuracy: 0.7166666666666667\n",
      "Precision: 0.7137931034482758\n",
      "Recall: 0.9904306220095693\n"
     ]
    }
   ],
   "source": [
    "y_pred=modelRF.predict(X_valid)\n",
    "\n",
    "#оцениваем точность модели\n",
    "print(\"Accuracy:\",metrics.accuracy_score(y_valid, y_pred))\n",
    "print(\"Precision:\",metrics.precision_score(y_valid, y_pred))\n",
    "print(\"Recall:\",metrics.recall_score(y_valid, y_pred))"
   ]
  },
  {
   "cell_type": "code",
   "execution_count": 73,
   "id": "190c69db-be2a-45f5-82c1-810e6266ce57",
   "metadata": {},
   "outputs": [
    {
     "name": "stdout",
     "output_type": "stream",
     "text": [
      "Лучшие параметры для оптимизации\n"
     ]
    },
    {
     "data": {
      "text/plain": [
       "(0.6871428571428572, {'C': 0.5, 'gamma': 0.2})"
      ]
     },
     "execution_count": 73,
     "metadata": {},
     "output_type": "execute_result"
    }
   ],
   "source": [
    "#находим лучшие параметры с помощью GridSearchCV() для улучшения модели\n",
    "from sklearn.model_selection import GridSearchCV\n",
    "SVC_params = {\"C\": [0.5, 1], \"gamma\": [0.2,0.6, 1]}\n",
    "SVC_grid = GridSearchCV(model_SVC, SVC_params, cv=5, n_jobs=-1)\n",
    "SVC_grid.fit(X_train, y_train);\n",
    "print(\"Лучшие параметры для оптимизации\")\n",
    "SVC_grid.best_score_, SVC_grid.best_params_\n"
   ]
  },
  {
   "cell_type": "code",
   "execution_count": 74,
   "id": "8364b4a1-f760-4e37-b110-ebd2247de9db",
   "metadata": {},
   "outputs": [
    {
     "name": "stdout",
     "output_type": "stream",
     "text": [
      "Accuracy: 0.6966666666666667\n",
      "Precision: 0.6966666666666667\n",
      "Recall: 1.0\n"
     ]
    }
   ],
   "source": [
    "\n",
    "y_pred=model_SVC.predict(X_valid)\n",
    "#оцениваем точность модели\n",
    "print(\"Accuracy:\",metrics.accuracy_score(y_valid, y_pred))\n",
    "print(\"Precision:\",metrics.precision_score(y_valid, y_pred))\n",
    "print(\"Recall:\",metrics.recall_score(y_valid, y_pred))"
   ]
  },
  {
   "cell_type": "code",
   "execution_count": null,
   "id": "f780e444-c3e7-479a-b659-8d0c75895c74",
   "metadata": {},
   "outputs": [],
   "source": []
  }
 ],
 "metadata": {
  "kernelspec": {
   "display_name": "Python 3 (ipykernel)",
   "language": "python",
   "name": "python3"
  },
  "language_info": {
   "codemirror_mode": {
    "name": "ipython",
    "version": 3
   },
   "file_extension": ".py",
   "mimetype": "text/x-python",
   "name": "python",
   "nbconvert_exporter": "python",
   "pygments_lexer": "ipython3",
   "version": "3.10.2"
  }
 },
 "nbformat": 4,
 "nbformat_minor": 5
}
